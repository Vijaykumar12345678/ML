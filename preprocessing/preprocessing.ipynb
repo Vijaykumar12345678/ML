{
 "cells": [
  {
   "cell_type": "markdown",
   "metadata": {},
   "source": [
    "@Author:Vijay Kumar M N<br>\n",
    "@Date: 2024-11-07<br>\n",
    "@Last Modified by:Vijay Kumar M N<br>\n",
    "@Last Modified: 2024-11-07<br>\n",
    "@Title :Python Program to handle the data<br>"
   ]
  },
  {
   "cell_type": "markdown",
   "metadata": {},
   "source": [
    "Classify the problems as supervised, unsupervised, reinforcement or semi supervised<br>\n",
    "a. Spam filtering: Is an email spam or not -<b>Supervised Learning</b><br>\n",
    "b. Given a list of customers and information about them, discover groups of similar<br>\n",
    "users. This knowledge can then be used for targeted marketing - <b>Unsupervised Learning</b><br>\n",
    "c. Robotics: A robot is in a maze, and it needs to find a way out.- <b>Reinforcement</b><br>\n",
    "d. Training an AI for a complex game such as Civilization or Dota -<b> Semi-supervised Learning</b><br>\n",
    "e. Anomaly detection: Given measurements from sensors in a manufacturing<br>\n",
    "facility, identify anomalies, i.e. that something is wrong- <b>Unsupervised Learning</b><br>\n",
    "f. Discover patterns in data such as whenever it rains, people tend to stay indoors.<br>\n",
    "When it is hot, people buy more ice-cream.-<b>unsupervised Learning</b><br>\n",
    "g. Given information about a house, predict its price- <b>Supervised Learning</b><br>\n",
    "h. Netflix: Given a user and a movie, predict the rating the user is going to give to\n",
    "the movie- <b>Supervervised Learning</b><br>    \n",
    "i. Given an image, output which objects are present in the image- <b>supervised Learning</b><br>"
   ]
  },
  {
   "cell_type": "code",
   "execution_count": 124,
   "metadata": {},
   "outputs": [],
   "source": [
    "#importing the libraries\n",
    "import pandas as pd\n",
    "from sklearn.preprocessing import OneHotEncoder, LabelEncoder,StandardScaler\n",
    "from sklearn.model_selection import train_test_split"
   ]
  },
  {
   "cell_type": "code",
   "execution_count": 125,
   "metadata": {},
   "outputs": [
    {
     "name": "stdout",
     "output_type": "stream",
     "text": [
      "   Country   Age   Salary Purchased\n",
      "0   France  44.0  72000.0        No\n",
      "1    Spain  27.0  48000.0       Yes\n",
      "2  Germany  30.0  54000.0        No\n",
      "3    Spain  38.0  61000.0        No\n",
      "4  Germany  40.0      NaN       Yes\n",
      "5   France  35.0  58000.0       Yes\n",
      "6    Spain   NaN  52000.0        No\n",
      "7   France  48.0  79000.0       Yes\n",
      "8  Germany  50.0  83000.0        No\n",
      "9   France  37.0  67000.0       Yes\n"
     ]
    }
   ],
   "source": [
    "#reading the data\n",
    "data=pd.read_csv(\"C:/Users/Admin/Downloads/data_preprocessing.csv\")\n",
    "print(data)"
   ]
  },
  {
   "cell_type": "code",
   "execution_count": 126,
   "metadata": {},
   "outputs": [
    {
     "name": "stdout",
     "output_type": "stream",
     "text": [
      "   Country  Age        Salary Purchased\n",
      "0   France   44  72000.000000        No\n",
      "1    Spain   27  48000.000000       Yes\n",
      "2  Germany   30  54000.000000        No\n",
      "3    Spain   38  61000.000000        No\n",
      "4  Germany   40  63777.777778       Yes\n",
      "5   France   35  58000.000000       Yes\n",
      "6    Spain   38  52000.000000        No\n",
      "7   France   48  79000.000000       Yes\n",
      "8  Germany   50  83000.000000        No\n",
      "9   France   37  67000.000000       Yes\n"
     ]
    },
    {
     "name": "stderr",
     "output_type": "stream",
     "text": [
      "C:\\Users\\Admin\\AppData\\Local\\Temp\\ipykernel_18772\\3117559118.py:2: FutureWarning: A value is trying to be set on a copy of a DataFrame or Series through chained assignment using an inplace method.\n",
      "The behavior will change in pandas 3.0. This inplace method will never work because the intermediate object on which we are setting values always behaves as a copy.\n",
      "\n",
      "For example, when doing 'df[col].method(value, inplace=True)', try using 'df.method({col: value}, inplace=True)' or df[col] = df[col].method(value) instead, to perform the operation inplace on the original object.\n",
      "\n",
      "\n",
      "  data['Age'].fillna(data['Age'].mean(),inplace=True)\n",
      "C:\\Users\\Admin\\AppData\\Local\\Temp\\ipykernel_18772\\3117559118.py:4: FutureWarning: A value is trying to be set on a copy of a DataFrame or Series through chained assignment using an inplace method.\n",
      "The behavior will change in pandas 3.0. This inplace method will never work because the intermediate object on which we are setting values always behaves as a copy.\n",
      "\n",
      "For example, when doing 'df[col].method(value, inplace=True)', try using 'df.method({col: value}, inplace=True)' or df[col] = df[col].method(value) instead, to perform the operation inplace on the original object.\n",
      "\n",
      "\n",
      "  data['Salary'].fillna(data['Salary'].mean(), inplace=True)\n"
     ]
    }
   ],
   "source": [
    "# Step 1: Handle missing data\n",
    "data['Age'].fillna(data['Age'].mean(),inplace=True)\n",
    "data['Age']=data['Age'].astype(int)\n",
    "data['Salary'].fillna(data['Salary'].mean(), inplace=True)\n",
    "print(data)"
   ]
  },
  {
   "cell_type": "code",
   "execution_count": 127,
   "metadata": {},
   "outputs": [
    {
     "name": "stdout",
     "output_type": "stream",
     "text": [
      "   Age        Salary  Purchased  Country_Germany  Country_Spain\n",
      "0   44  72000.000000          0            False          False\n",
      "1   27  48000.000000          1            False           True\n",
      "2   30  54000.000000          0             True          False\n",
      "3   38  61000.000000          0            False           True\n",
      "4   40  63777.777778          1             True          False\n",
      "5   35  58000.000000          1            False          False\n",
      "6   38  52000.000000          0            False           True\n",
      "7   48  79000.000000          1            False          False\n",
      "8   50  83000.000000          0             True          False\n",
      "9   37  67000.000000          1            False          False\n"
     ]
    }
   ],
   "source": [
    "# Step 2: Convert categorical data\n",
    "# One-hot encoding for 'Country'\n",
    "data = pd.get_dummies(data, columns=['Country'], drop_first=True)\n",
    "\n",
    "# Label encoding for 'Purchased'\n",
    "label_encoder = LabelEncoder()\n",
    "data['Purchased'] = label_encoder.fit_transform(data['Purchased'])\n",
    "print(data)"
   ]
  },
  {
   "cell_type": "code",
   "execution_count": 128,
   "metadata": {},
   "outputs": [
    {
     "name": "stdout",
     "output_type": "stream",
     "text": [
      "Train Data\n",
      "   Age        Salary  Country_Germany  Country_Spain\n",
      "0   44  72000.000000            False          False\n",
      "7   48  79000.000000            False          False\n",
      "2   30  54000.000000             True          False\n",
      "9   37  67000.000000            False          False\n",
      "4   40  63777.777778             True          False\n",
      "3   38  61000.000000            False           True\n",
      "6   38  52000.000000            False           True\n",
      "Test Data\n",
      "   Age   Salary  Country_Germany  Country_Spain\n",
      "8   50  83000.0             True          False\n",
      "1   27  48000.0            False           True\n",
      "5   35  58000.0            False          False\n"
     ]
    }
   ],
   "source": [
    "# Step 3: Split the dataset\n",
    "X = data.drop('Purchased', axis=1)  # Features\n",
    "y = data['Purchased']  # Target variable\n",
    "X_train, X_test, y_train, y_test = train_test_split(X, y, test_size=0.3, random_state=42)\n",
    "print(\"Train Data\")\n",
    "print(X_train)\n",
    "print(\"Test Data\")\n",
    "print(X_test)"
   ]
  },
  {
   "cell_type": "code",
   "execution_count": 129,
   "metadata": {},
   "outputs": [
    {
     "name": "stdout",
     "output_type": "stream",
     "text": [
      "Scaled Training Set:\n",
      "[[ 0.8968186   0.8892086  -0.63245553 -0.63245553]\n",
      " [ 1.6577556   1.67822469 -0.63245553 -0.63245553]\n",
      " [-1.76646088 -1.1396899   1.58113883 -0.63245553]\n",
      " [-0.43482114  0.32562569 -0.63245553 -0.63245553]\n",
      " [ 0.13588161 -0.03757219  1.58113883 -0.63245553]\n",
      " [-0.24458689 -0.35067382 -0.63245553  1.58113883]\n",
      " [-0.24458689 -1.36512307 -0.63245553  1.58113883]]\n",
      "Scaled Test Set:\n",
      "[[ 2.03822409  2.12909102  1.58113883 -0.63245553]\n",
      " [-2.33716363 -1.8159894  -0.63245553  1.58113883]\n",
      " [-0.81528964 -0.68882357 -0.63245553 -0.63245553]]\n"
     ]
    }
   ],
   "source": [
    "# Step 4: Feature scaling\n",
    "scaler = StandardScaler()\n",
    "X_train_scaled = scaler.fit_transform(X_train)\n",
    "X_test_scaled = scaler.transform(X_test)\n",
    "\n",
    "print(\"Scaled Training Set:\")\n",
    "print(X_train_scaled)\n",
    "print(\"Scaled Test Set:\")\n",
    "print(X_test_scaled)\n"
   ]
  },
  {
   "cell_type": "code",
   "execution_count": 130,
   "metadata": {},
   "outputs": [
    {
     "name": "stdout",
     "output_type": "stream",
     "text": [
      "Scaled Test Set (from scaler):\n",
      " [[ 2.03822409  2.12909102  1.58113883 -0.63245553]\n",
      " [-2.33716363 -1.8159894  -0.63245553  1.58113883]\n",
      " [-0.81528964 -0.68882357 -0.63245553 -0.63245553]]\n",
      "Manually Scaled Test Set:\n",
      "         Age    Salary  Country_Germany  Country_Spain\n",
      "8  2.038224  2.129091         1.581139      -0.632456\n",
      "1 -2.337164 -1.815989        -0.632456       1.581139\n",
      "5 -0.815290 -0.688824        -0.632456      -0.632456\n",
      "Difference:\n",
      "    Age  Salary  Country_Germany  Country_Spain\n",
      "8  0.0     0.0              0.0            0.0\n",
      "1  0.0     0.0              0.0            0.0\n",
      "5  0.0     0.0              0.0            0.0\n"
     ]
    }
   ],
   "source": [
    "import numpy as np\n",
    "\n",
    "# Assuming scaler is the StandardScaler instance used\n",
    "means = scaler.mean_     \n",
    "   # Mean of each column from the training set\n",
    "scales = np.sqrt(scaler.var_)  # Standard deviation (since scaler.var_ gives variance)\n",
    "\n",
    "# Manually compute the scaled test set values\n",
    "X_test_manual_scaled = (X_test - means) / scales\n",
    "\n",
    "# Compare with previously scaled test set\n",
    "print(\"Scaled Test Set (from scaler):\\n\", X_test_scaled)\n",
    "print(\"Manually Scaled Test Set:\\n\", X_test_manual_scaled)\n",
    "\n",
    "# Check if they're close enough\n",
    "print(\"Difference:\\n\", X_test_scaled - X_test_manual_scaled)\n"
   ]
  }
 ],
 "metadata": {
  "kernelspec": {
   "display_name": "Python 3.12.3 64-bit",
   "language": "python",
   "name": "python3"
  },
  "language_info": {
   "codemirror_mode": {
    "name": "ipython",
    "version": 3
   },
   "file_extension": ".py",
   "mimetype": "text/x-python",
   "name": "python",
   "nbconvert_exporter": "python",
   "pygments_lexer": "ipython3",
   "version": "3.12.3"
  },
  "orig_nbformat": 4,
  "vscode": {
   "interpreter": {
    "hash": "3fcbd7240ee8f908d933dc7f71e8c42a1a91163b70ede8dcff5146d4087436c7"
   }
  }
 },
 "nbformat": 4,
 "nbformat_minor": 2
}
